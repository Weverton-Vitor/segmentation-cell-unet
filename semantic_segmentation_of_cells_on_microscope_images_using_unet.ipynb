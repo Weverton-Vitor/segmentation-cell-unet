{
  "metadata": {
    "colab": {
      "provenance": [],
      "gpuType": "T4",
      "include_colab_link": true
    },
    "kernelspec": {
      "name": "python3",
      "display_name": "Python 3",
      "language": "python"
    },
    "language_info": {
      "name": "python",
      "version": "3.10.13",
      "mimetype": "text/x-python",
      "codemirror_mode": {
        "name": "ipython",
        "version": 3
      },
      "pygments_lexer": "ipython3",
      "nbconvert_exporter": "python",
      "file_extension": ".py"
    },
    "accelerator": "GPU",
    "kaggle": {
      "accelerator": "nvidiaTeslaT4",
      "dataSources": [],
      "dockerImageVersionId": 30648,
      "isInternetEnabled": true,
      "language": "python",
      "sourceType": "notebook",
      "isGpuEnabled": true
    }
  },
  "nbformat_minor": 0,
  "nbformat": 4,
  "cells": [
    {
      "cell_type": "markdown",
      "metadata": {
        "id": "view-in-github",
        "colab_type": "text"
      },
      "source": [
        "<a href=\"https://colab.research.google.com/github/Weverton-Vitor/segmentation-cell-unet/blob/main/semantic_segmentation_of_cells_on_microscope_images_using_unet.ipynb\" target=\"_parent\"><img src=\"https://colab.research.google.com/assets/colab-badge.svg\" alt=\"Open In Colab\"/></a>"
      ]
    },
    {
      "cell_type": "markdown",
      "source": [
        "# Segmentation of Cells On Microscope Images using UNet"
      ],
      "metadata": {
        "id": "V2HLvmWFy2pr"
      }
    },
    {
      "cell_type": "markdown",
      "source": [
        "## 0. Imports and install packeges"
      ],
      "metadata": {
        "id": "VUB8QDar0AdJ"
      }
    },
    {
      "cell_type": "code",
      "source": [
        "!pip install torchinfo\n",
        "!pip install torchmetrics\n",
        "!pip install pycocotools"
      ],
      "metadata": {
        "id": "3iPhSKyjxl5t",
        "execution": {
          "iopub.status.busy": "2024-02-16T17:51:50.048252Z",
          "iopub.execute_input": "2024-02-16T17:51:50.048604Z",
          "iopub.status.idle": "2024-02-16T17:52:27.225326Z",
          "shell.execute_reply.started": "2024-02-16T17:51:50.048574Z",
          "shell.execute_reply": "2024-02-16T17:52:27.223776Z"
        },
        "trusted": true
      },
      "execution_count": null,
      "outputs": []
    },
    {
      "cell_type": "code",
      "source": [
        "import os\n",
        "import shutil\n",
        "import zipfile\n",
        "import random\n",
        "import json\n",
        "from typing import Tuple\n",
        "\n",
        "import numpy as np\n",
        "import skimage\n",
        "import tifffile\n",
        "\n",
        "import torch\n",
        "from torch import nn\n",
        "from torch.optim import Adam\n",
        "from torch.utils.data import Dataset, DataLoader\n",
        "import torch.nn.functional as F\n",
        "\n",
        "import torchvision\n",
        "from torchvision.datasets import CocoDetection\n",
        "from torchvision import datasets, transforms\n",
        "import torchvision.transforms.functional as TF\n",
        "\n",
        "\n",
        "from torchmetrics.detection import IntersectionOverUnion\n",
        "from torchmetrics.classification import BinaryJaccardIndex, BinaryAccuracy\n",
        "\n",
        "import pycocotools.mask as coco_mask\n",
        "\n",
        "from torchinfo import summary\n",
        "\n",
        "from PIL import Image, ImageDraw\n",
        "import matplotlib.pyplot as plt\n",
        "import matplotlib.patches as patches\n"
      ],
      "metadata": {
        "id": "T7s1dkW50Hl6",
        "execution": {
          "iopub.status.busy": "2024-02-16T17:53:02.290838Z",
          "iopub.execute_input": "2024-02-16T17:53:02.291233Z",
          "iopub.status.idle": "2024-02-16T17:53:02.300376Z",
          "shell.execute_reply.started": "2024-02-16T17:53:02.291199Z",
          "shell.execute_reply": "2024-02-16T17:53:02.299489Z"
        },
        "trusted": true
      },
      "execution_count": null,
      "outputs": []
    },
    {
      "cell_type": "markdown",
      "source": [
        "## 1. Get the dataset"
      ],
      "metadata": {
        "id": "El6ERWtyzMjm"
      }
    },
    {
      "cell_type": "markdown",
      "source": [
        "### 1.1 Donwload images"
      ],
      "metadata": {
        "id": "PNjNQXKfzRtt"
      }
    },
    {
      "cell_type": "code",
      "source": [
        "!wget http://livecell-dataset.s3.eu-central-1.amazonaws.com/LIVECell_dataset_2021/images.zip"
      ],
      "metadata": {
        "id": "UWXMz2-X6kNl",
        "execution": {
          "iopub.status.busy": "2024-02-16T17:53:02.314639Z",
          "iopub.execute_input": "2024-02-16T17:53:02.315193Z",
          "iopub.status.idle": "2024-02-16T17:53:44.991457Z",
          "shell.execute_reply.started": "2024-02-16T17:53:02.315169Z",
          "shell.execute_reply": "2024-02-16T17:53:44.990424Z"
        },
        "trusted": true
      },
      "execution_count": null,
      "outputs": []
    },
    {
      "cell_type": "code",
      "source": [
        "dataset_path_zip = '/kaggle/working/images.zip'\n",
        "zipfile.ZipFile(dataset_path_zip).extractall('/kaggle/working/')"
      ],
      "metadata": {
        "id": "jmgDiqcY98QE",
        "execution": {
          "iopub.status.busy": "2024-02-16T17:53:44.993447Z",
          "iopub.execute_input": "2024-02-16T17:53:44.993793Z",
          "iopub.status.idle": "2024-02-16T17:53:57.566761Z",
          "shell.execute_reply.started": "2024-02-16T17:53:44.993762Z",
          "shell.execute_reply": "2024-02-16T17:53:57.565995Z"
        },
        "trusted": true
      },
      "execution_count": null,
      "outputs": []
    },
    {
      "cell_type": "code",
      "source": [
        "# 5% of the train annotations\n",
        "# !wget http://livecell-dataset.s3.eu-central-1.amazonaws.com/LIVECell_dataset_2021/annotations/LIVECell_dataset_size_split/2_train5percent.json\n",
        "\n",
        "# 25% of train annotations\n",
        "# !wget http://livecell-dataset.s3.eu-central-1.amazonaws.com/LIVECell_dataset_2021/annotations/LIVECell_dataset_size_split/3_train25percent.json\n",
        "\n",
        "# Train A172 Cells\n",
        "!wget https://livecell-dataset.s3.eu-central-1.amazonaws.com/LIVECell_dataset_2021/annotations/LIVECell_single_cells/a172/train.json\n",
        "\n",
        "# Validation and Test annotations\n",
        "# !wget http://livecell-dataset.s3.eu-central-1.amazonaws.com/LIVECell_dataset_2021/annotations/LIVECell/livecell_coco_val.json\n",
        "# !wget http://livecell-dataset.s3.eu-central-1.amazonaws.com/LIVECell_dataset_2021/annotations/LIVECell/livecell_coco_test.json\n",
        "\n",
        "!wget https://livecell-dataset.s3.eu-central-1.amazonaws.com/LIVECell_dataset_2021/annotations/LIVECell_single_cells/a172/val.json"
      ],
      "metadata": {
        "id": "sa5cTd77_8Fc",
        "execution": {
          "iopub.status.busy": "2024-02-16T17:53:57.568090Z",
          "iopub.execute_input": "2024-02-16T17:53:57.568426Z",
          "iopub.status.idle": "2024-02-16T17:54:06.842567Z",
          "shell.execute_reply.started": "2024-02-16T17:53:57.568398Z",
          "shell.execute_reply": "2024-02-16T17:54:06.841535Z"
        },
        "trusted": true
      },
      "execution_count": null,
      "outputs": []
    },
    {
      "cell_type": "markdown",
      "source": [
        "### 1.2 Create custom datasets and Visualizing random images of dataset"
      ],
      "metadata": {
        "id": "5adPY1o7zZXC"
      }
    },
    {
      "cell_type": "code",
      "source": [
        "class CocoSegmentationDataset(Dataset):\n",
        "    def __init__(self, root, annFile, transform=None, target_transform=None, train=True):\n",
        "        self.is_train = train\n",
        "        self.transform = transform\n",
        "        self.target_transform = target_transform\n",
        "        self.coco_dataset = CocoDetection(root=root, annFile=annFile)\n",
        "\n",
        "    def __len__(self):\n",
        "        return len(self.coco_dataset)\n",
        "\n",
        "    def __getitem__(self, idx):\n",
        "        img, ann = self.coco_dataset[idx]\n",
        "        w, h = img.size\n",
        "        mask = Image.fromarray(self.create_mask(w, h, ann).astype('uint8'))\n",
        "\n",
        "        if self.is_train:\n",
        "            if random.random() > 0.5:\n",
        "              img = TF.hflip(img)\n",
        "              mask = TF.hflip(mask)\n",
        "\n",
        "            #random vertical flip\n",
        "            if random.random() > 0.5:\n",
        "              img = TF.vflip(img)\n",
        "              mask = TF.vflip(mask)\n",
        "\n",
        "            #random rotation\n",
        "            img = TF.rotate(img, angle=10.0)\n",
        "            mask = TF.rotate(mask, angle=10.0)\n",
        "\n",
        "        img = self.transform(img)\n",
        "        mask = self.target_transform(mask)\n",
        "        return img, mask\n",
        "\n",
        "    def create_mask(self, width, height, ann):\n",
        "      # Create an empty mask as a numpy array\n",
        "      mask_np = np.zeros((height, width), dtype=np.uint16)\n",
        "\n",
        "      # Counter for the object number\n",
        "      object_number = 1\n",
        "\n",
        "      # Extract segmentation polygon\n",
        "      for annotation in ann:\n",
        "        for seg in annotation['segmentation']:\n",
        "            if type(seg) is list:\n",
        "              # Convert polygons to a binary mask and add it to the main mask\n",
        "              rr, cc = skimage.draw.polygon(seg[1::2], seg[0::2], mask_np.shape)\n",
        "#               mask_np[rr, cc] = 255\n",
        "              mask_np[rr, cc] = object_number\n",
        "              object_number += 1 #We are assigning each object a unique integer value (labeled mask)\n",
        "\n",
        "      return mask_np\n",
        "\n",
        "    def show_random_samples(self, qty: int=5) -> None:\n",
        "      random_samples = random.sample(range(len(self.coco_dataset)), k=qty)\n",
        "\n",
        "      fig = plt.figure(figsize=(15, 15))\n",
        "\n",
        "      for i, sample in enumerate(random_samples):\n",
        "        fig.add_subplot(1, qty, i+1)\n",
        "        plt.imshow(self.coco_dataset[sample][0])\n",
        "        plt.axis('off')\n",
        "\n",
        "    def show_random_samples_with_annotations_poligons(self, fill_polygons: bool=False) -> None:\n",
        "      random_samples = random.sample(range(len(self.coco_dataset)), k=4)\n",
        "\n",
        "      # fig = plt.figure(figsize=(15, 15))\n",
        "      fig, axs = plt.subplots(2, 2, figsize=(15, 15))\n",
        "\n",
        "      for idx, ax in enumerate(axs.flat):\n",
        "        # fig.add_subplot(1, qty, i+1)\n",
        "        ax.imshow(self.coco_dataset[random_samples[idx]][0])\n",
        "        ax.axis('off')\n",
        "\n",
        "        annotations = self.coco_dataset[random_samples[idx]][1]\n",
        "        for ann in annotations:\n",
        "          for seg in ann['segmentation']:\n",
        "            if type(seg) is list:\n",
        "              poly = [(seg[i], seg[i+1]) for i in range(0, len(seg), 2)]\n",
        "              polygon = plt.Polygon(poly, closed=True, edgecolor='g', fill=fill_polygons, facecolor='none')\n",
        "              ax.add_patch(polygon)\n"
      ],
      "metadata": {
        "id": "Z4rIDPvUO5Fj",
        "execution": {
          "iopub.status.busy": "2024-02-16T17:54:06.845335Z",
          "iopub.execute_input": "2024-02-16T17:54:06.845635Z",
          "iopub.status.idle": "2024-02-16T17:54:06.866837Z",
          "shell.execute_reply.started": "2024-02-16T17:54:06.845609Z",
          "shell.execute_reply": "2024-02-16T17:54:06.865831Z"
        },
        "trusted": true
      },
      "execution_count": null,
      "outputs": []
    },
    {
      "cell_type": "code",
      "source": [
        "# Train, Val and Test images and annotation paths\n",
        "train_dataset_image_root_path = '/kaggle/working/images/livecell_train_val_images'\n",
        "#train_dataset_annotations_root_path = '/content/2_train5percent.json'3_train25percent.json\n",
        "train_dataset_annotations_root_path = '/kaggle/working/train.json'\n",
        "\n",
        "\n",
        "val_dataset_image_root_path = '/kaggle/working/images/livecell_train_val_images'\n",
        "val_dataset_annotations_root_path = '/kaggle/working/val.json'\n",
        "\n",
        "# test_dataset_image_root_path = '/kaggle/working/images/livecell_test_images'\n",
        "# test_dataset_annotations_root_path = '/kaggle/working/livecell_coco_test.json'"
      ],
      "metadata": {
        "id": "P48n3unXTJAR",
        "execution": {
          "iopub.status.busy": "2024-02-16T17:54:06.868036Z",
          "iopub.execute_input": "2024-02-16T17:54:06.868347Z",
          "iopub.status.idle": "2024-02-16T17:54:06.881886Z",
          "shell.execute_reply.started": "2024-02-16T17:54:06.868322Z",
          "shell.execute_reply": "2024-02-16T17:54:06.881079Z"
        },
        "trusted": true
      },
      "execution_count": null,
      "outputs": []
    },
    {
      "cell_type": "code",
      "source": [
        "transform = transforms.Compose([\n",
        "    transforms.Resize((512, 512)),\n",
        "    transforms.ToTensor()\n",
        "#     transforms.Normalize(mean=[0.485, 0.456, 0.406],std=[0.229, 0.224, 0.225])\n",
        "\n",
        "])\n",
        "\n",
        "target_transform = transforms.Compose([\n",
        "    transforms.Resize((512, 512)),\n",
        "    transforms.ToTensor()\n",
        "])"
      ],
      "metadata": {
        "id": "OQZIlU0B3zoG",
        "execution": {
          "iopub.status.busy": "2024-02-16T17:54:06.883051Z",
          "iopub.execute_input": "2024-02-16T17:54:06.883369Z",
          "iopub.status.idle": "2024-02-16T17:54:06.897310Z",
          "shell.execute_reply.started": "2024-02-16T17:54:06.883345Z",
          "shell.execute_reply": "2024-02-16T17:54:06.896395Z"
        },
        "trusted": true
      },
      "execution_count": null,
      "outputs": []
    },
    {
      "cell_type": "code",
      "source": [
        "# Train dataset (only 5%)\n",
        "train_dataset = CocoSegmentationDataset(root=train_dataset_image_root_path,\n",
        "                                        transform=transform,\n",
        "                                        target_transform=target_transform,\n",
        "                                        annFile=train_dataset_annotations_root_path,\n",
        "                                       train=True)"
      ],
      "metadata": {
        "id": "KCp1fKpcQ6_A",
        "execution": {
          "iopub.status.busy": "2024-02-16T17:54:06.898404Z",
          "iopub.execute_input": "2024-02-16T17:54:06.898777Z",
          "iopub.status.idle": "2024-02-16T17:54:09.141166Z",
          "shell.execute_reply.started": "2024-02-16T17:54:06.898753Z",
          "shell.execute_reply": "2024-02-16T17:54:09.139952Z"
        },
        "trusted": true
      },
      "execution_count": null,
      "outputs": []
    },
    {
      "cell_type": "code",
      "source": [
        "val_dataset = CocoSegmentationDataset(root=train_dataset_image_root_path,\n",
        "                                      transform=transform,\n",
        "                                      target_transform=target_transform,\n",
        "                                      annFile=val_dataset_annotations_root_path,\n",
        "                                      train=False)"
      ],
      "metadata": {
        "id": "CzOK9h-LTCRa",
        "execution": {
          "iopub.status.busy": "2024-02-16T17:54:09.142435Z",
          "iopub.execute_input": "2024-02-16T17:54:09.142731Z",
          "iopub.status.idle": "2024-02-16T17:54:10.038780Z",
          "shell.execute_reply.started": "2024-02-16T17:54:09.142706Z",
          "shell.execute_reply": "2024-02-16T17:54:10.037860Z"
        },
        "trusted": true
      },
      "execution_count": null,
      "outputs": []
    },
    {
      "cell_type": "code",
      "source": [
        "np.asarray(train_dataset[0][0]).shape"
      ],
      "metadata": {
        "id": "z3fzzBArsRvJ",
        "execution": {
          "iopub.status.busy": "2024-02-16T17:54:10.039984Z",
          "iopub.execute_input": "2024-02-16T17:54:10.040262Z",
          "iopub.status.idle": "2024-02-16T17:54:10.105465Z",
          "shell.execute_reply.started": "2024-02-16T17:54:10.040239Z",
          "shell.execute_reply": "2024-02-16T17:54:10.104488Z"
        },
        "trusted": true
      },
      "execution_count": null,
      "outputs": []
    },
    {
      "cell_type": "code",
      "source": [
        "train_dataset[0]"
      ],
      "metadata": {
        "id": "DEWeVu30_SvY",
        "execution": {
          "iopub.status.busy": "2024-02-16T17:54:10.109552Z",
          "iopub.execute_input": "2024-02-16T17:54:10.109837Z",
          "iopub.status.idle": "2024-02-16T17:54:10.170231Z",
          "shell.execute_reply.started": "2024-02-16T17:54:10.109814Z",
          "shell.execute_reply": "2024-02-16T17:54:10.169332Z"
        },
        "trusted": true
      },
      "execution_count": null,
      "outputs": []
    },
    {
      "cell_type": "code",
      "source": [
        "train_dataset.show_random_samples(qty=1)"
      ],
      "metadata": {
        "id": "VxFgZOiiSJyv",
        "execution": {
          "iopub.status.busy": "2024-02-16T17:54:10.171509Z",
          "iopub.execute_input": "2024-02-16T17:54:10.171938Z",
          "iopub.status.idle": "2024-02-16T17:54:10.809007Z",
          "shell.execute_reply.started": "2024-02-16T17:54:10.171906Z",
          "shell.execute_reply": "2024-02-16T17:54:10.808096Z"
        },
        "trusted": true
      },
      "execution_count": null,
      "outputs": []
    },
    {
      "cell_type": "code",
      "source": [
        "val_dataset.show_random_samples(qty=2)"
      ],
      "metadata": {
        "id": "49CzBJanPw_t",
        "execution": {
          "iopub.status.busy": "2024-02-16T17:54:10.810420Z",
          "iopub.execute_input": "2024-02-16T17:54:10.810778Z",
          "iopub.status.idle": "2024-02-16T17:54:11.243478Z",
          "shell.execute_reply.started": "2024-02-16T17:54:10.810745Z",
          "shell.execute_reply": "2024-02-16T17:54:11.242598Z"
        },
        "trusted": true
      },
      "execution_count": null,
      "outputs": []
    },
    {
      "cell_type": "markdown",
      "source": [
        "### 1.3 Visualizing the annotations of a image\n"
      ],
      "metadata": {
        "id": "8iBHkUVGtuXM"
      }
    },
    {
      "cell_type": "code",
      "source": [
        "train_dataset.show_random_samples_with_annotations_poligons()"
      ],
      "metadata": {
        "id": "ZtE_nOOT8CQY",
        "execution": {
          "iopub.status.busy": "2024-02-16T17:54:11.244796Z",
          "iopub.execute_input": "2024-02-16T17:54:11.245252Z",
          "iopub.status.idle": "2024-02-16T17:54:13.511599Z",
          "shell.execute_reply.started": "2024-02-16T17:54:11.245217Z",
          "shell.execute_reply": "2024-02-16T17:54:13.510640Z"
        },
        "trusted": true
      },
      "execution_count": null,
      "outputs": []
    },
    {
      "cell_type": "code",
      "source": [
        "val_dataset.show_random_samples_with_annotations_poligons()"
      ],
      "metadata": {
        "id": "s3kVtDx9SX3d",
        "execution": {
          "iopub.status.busy": "2024-02-16T17:54:13.512914Z",
          "iopub.execute_input": "2024-02-16T17:54:13.513248Z",
          "iopub.status.idle": "2024-02-16T17:54:16.041564Z",
          "shell.execute_reply.started": "2024-02-16T17:54:13.513219Z",
          "shell.execute_reply": "2024-02-16T17:54:16.040664Z"
        },
        "trusted": true
      },
      "execution_count": null,
      "outputs": []
    },
    {
      "cell_type": "markdown",
      "source": [
        "### 1.3 Visualizing the maks segmentation"
      ],
      "metadata": {
        "id": "NpSaJ5EWzhaU"
      }
    },
    {
      "cell_type": "code",
      "source": [
        "train_dataset[0]"
      ],
      "metadata": {
        "id": "LK2Gw6cgjcjb",
        "execution": {
          "iopub.status.busy": "2024-02-16T17:54:16.042757Z",
          "iopub.execute_input": "2024-02-16T17:54:16.043065Z",
          "iopub.status.idle": "2024-02-16T17:54:16.105289Z",
          "shell.execute_reply.started": "2024-02-16T17:54:16.043040Z",
          "shell.execute_reply": "2024-02-16T17:54:16.104349Z"
        },
        "trusted": true
      },
      "execution_count": null,
      "outputs": []
    },
    {
      "cell_type": "code",
      "source": [
        "def show_random_masks(dataset: datasets.CocoDetection, qty: int=5) -> None:\n",
        "  random_masks = random.sample(range(len(dataset)), k=qty)\n",
        "\n",
        "  fig = plt.figure(figsize=(15, 15))\n",
        "\n",
        "  for i, mask in enumerate(random_masks):\n",
        "    fig.add_subplot(1, qty, i+1)\n",
        "    plt.imshow(dataset[mask][1].permute(1, 2, 0), cmap='gray')\n",
        "    plt.axis('off')\n",
        "  plt.show()"
      ],
      "metadata": {
        "id": "mGqsU6HEmD-d",
        "execution": {
          "iopub.status.busy": "2024-02-16T17:54:16.106774Z",
          "iopub.execute_input": "2024-02-16T17:54:16.107361Z",
          "iopub.status.idle": "2024-02-16T17:54:16.113356Z",
          "shell.execute_reply.started": "2024-02-16T17:54:16.107330Z",
          "shell.execute_reply": "2024-02-16T17:54:16.112412Z"
        },
        "trusted": true
      },
      "execution_count": null,
      "outputs": []
    },
    {
      "cell_type": "code",
      "source": [
        "show_random_masks(dataset=train_dataset, qty=3)"
      ],
      "metadata": {
        "id": "oKhHHW2qsCZB",
        "execution": {
          "iopub.status.busy": "2024-02-16T17:54:16.114544Z",
          "iopub.execute_input": "2024-02-16T17:54:16.114886Z",
          "iopub.status.idle": "2024-02-16T17:54:16.980297Z",
          "shell.execute_reply.started": "2024-02-16T17:54:16.114861Z",
          "shell.execute_reply": "2024-02-16T17:54:16.979359Z"
        },
        "trusted": true
      },
      "execution_count": null,
      "outputs": []
    },
    {
      "cell_type": "code",
      "source": [
        "show_random_masks(dataset=val_dataset, qty=1)"
      ],
      "metadata": {
        "id": "zz8aKjU-ptNS",
        "execution": {
          "iopub.status.busy": "2024-02-16T17:54:16.981620Z",
          "iopub.execute_input": "2024-02-16T17:54:16.981970Z",
          "iopub.status.idle": "2024-02-16T17:54:17.480034Z",
          "shell.execute_reply.started": "2024-02-16T17:54:16.981942Z",
          "shell.execute_reply": "2024-02-16T17:54:17.479177Z"
        },
        "trusted": true
      },
      "execution_count": null,
      "outputs": []
    },
    {
      "cell_type": "markdown",
      "source": [
        "### 1.4 Visualizing random images and its respective masks"
      ],
      "metadata": {
        "id": "Kx0VirGgzroU"
      }
    },
    {
      "cell_type": "code",
      "source": [
        "def show_random_image_and_mask(dataset: datasets.CocoDetection) -> None:\n",
        "  random_sample = random.choice(range(len(dataset)))\n",
        "\n",
        "  fig = plt.figure(figsize=(15, 15))\n",
        "\n",
        "  fig.add_subplot(1, 2, 1)\n",
        "  plt.imshow(dataset[random_sample][0].permute(1, 2, 0), cmap='gray')\n",
        "  plt.title('Original Image')\n",
        "  plt.axis('off')\n",
        "\n",
        "  fig.add_subplot(1, 2, 2)\n",
        "  plt.imshow(dataset[random_sample][1].permute(1, 2, 0), cmap='gray')\n",
        "  plt.title('Mask')\n",
        "\n",
        "  plt.axis('off')\n",
        "  plt.show()"
      ],
      "metadata": {
        "id": "A2wg342vp9lt",
        "execution": {
          "iopub.status.busy": "2024-02-16T17:54:17.481244Z",
          "iopub.execute_input": "2024-02-16T17:54:17.481533Z",
          "iopub.status.idle": "2024-02-16T17:54:17.488522Z",
          "shell.execute_reply.started": "2024-02-16T17:54:17.481507Z",
          "shell.execute_reply": "2024-02-16T17:54:17.487459Z"
        },
        "trusted": true
      },
      "execution_count": null,
      "outputs": []
    },
    {
      "cell_type": "code",
      "source": [
        "show_random_image_and_mask(train_dataset)"
      ],
      "metadata": {
        "id": "Y0BCZTi1qxtr",
        "execution": {
          "iopub.status.busy": "2024-02-16T17:54:17.489673Z",
          "iopub.execute_input": "2024-02-16T17:54:17.489957Z",
          "iopub.status.idle": "2024-02-16T17:54:18.194783Z",
          "shell.execute_reply.started": "2024-02-16T17:54:17.489934Z",
          "shell.execute_reply": "2024-02-16T17:54:18.193786Z"
        },
        "trusted": true
      },
      "execution_count": null,
      "outputs": []
    },
    {
      "cell_type": "code",
      "source": [
        "show_random_image_and_mask(val_dataset)"
      ],
      "metadata": {
        "id": "jYePIq5sq3tk",
        "execution": {
          "iopub.status.busy": "2024-02-16T17:54:18.196275Z",
          "iopub.execute_input": "2024-02-16T17:54:18.196630Z",
          "iopub.status.idle": "2024-02-16T17:54:19.021540Z",
          "shell.execute_reply.started": "2024-02-16T17:54:18.196598Z",
          "shell.execute_reply": "2024-02-16T17:54:19.020687Z"
        },
        "trusted": true
      },
      "execution_count": null,
      "outputs": []
    },
    {
      "cell_type": "markdown",
      "source": [
        "### 1.5 Generate DataLoader and tranforms images with torchvision"
      ],
      "metadata": {
        "id": "hmPk4G9u1b2y"
      }
    },
    {
      "cell_type": "markdown",
      "source": [
        "#### 1.5.1 Device Agnostic"
      ],
      "metadata": {
        "id": "ely_2XhqjHZt"
      }
    },
    {
      "cell_type": "code",
      "source": [
        "device = torch.device(\"cuda\" if torch.cuda.is_available() else \"cpu\")\n",
        "device"
      ],
      "metadata": {
        "id": "hQjWnu7ajOFB",
        "execution": {
          "iopub.status.busy": "2024-02-16T17:54:19.023062Z",
          "iopub.execute_input": "2024-02-16T17:54:19.023343Z",
          "iopub.status.idle": "2024-02-16T17:54:19.029378Z",
          "shell.execute_reply.started": "2024-02-16T17:54:19.023318Z",
          "shell.execute_reply": "2024-02-16T17:54:19.028548Z"
        },
        "trusted": true
      },
      "execution_count": null,
      "outputs": []
    },
    {
      "cell_type": "markdown",
      "source": [
        "#### 1.5.2 Create DataLoaders"
      ],
      "metadata": {
        "id": "q6Apkjsk1jPH"
      }
    },
    {
      "cell_type": "code",
      "source": [
        "train_dataloader = DataLoader(dataset=train_dataset,\n",
        "                              batch_size=8,\n",
        "                              shuffle=True)\n",
        "\n",
        "val_dataloader = DataLoader(dataset=val_dataset,\n",
        "                              batch_size=8)"
      ],
      "metadata": {
        "id": "U1zldWJk1Ph5",
        "execution": {
          "iopub.status.busy": "2024-02-16T17:54:19.030911Z",
          "iopub.execute_input": "2024-02-16T17:54:19.031372Z",
          "iopub.status.idle": "2024-02-16T17:54:19.040646Z",
          "shell.execute_reply.started": "2024-02-16T17:54:19.031340Z",
          "shell.execute_reply": "2024-02-16T17:54:19.039683Z"
        },
        "trusted": true
      },
      "execution_count": null,
      "outputs": []
    },
    {
      "cell_type": "code",
      "source": [
        "next(iter(train_dataloader))"
      ],
      "metadata": {
        "id": "yIbrg6Y8AquX",
        "execution": {
          "iopub.status.busy": "2024-02-16T17:54:19.041938Z",
          "iopub.execute_input": "2024-02-16T17:54:19.042232Z",
          "iopub.status.idle": "2024-02-16T17:54:20.530649Z",
          "shell.execute_reply.started": "2024-02-16T17:54:19.042200Z",
          "shell.execute_reply": "2024-02-16T17:54:20.529635Z"
        },
        "trusted": true
      },
      "execution_count": null,
      "outputs": []
    },
    {
      "cell_type": "code",
      "source": [
        "next(iter(train_dataloader))[0].shape,  next(iter(train_dataloader))[1].shape"
      ],
      "metadata": {
        "id": "tEaSwUaTBC9r",
        "execution": {
          "iopub.status.busy": "2024-02-16T17:54:20.531984Z",
          "iopub.execute_input": "2024-02-16T17:54:20.532290Z",
          "iopub.status.idle": "2024-02-16T17:54:24.337745Z",
          "shell.execute_reply.started": "2024-02-16T17:54:20.532264Z",
          "shell.execute_reply": "2024-02-16T17:54:24.336813Z"
        },
        "trusted": true
      },
      "execution_count": null,
      "outputs": []
    },
    {
      "cell_type": "markdown",
      "source": [
        "## 2. Build Unet\n",
        "\n",
        "Original Paper: [U-Net: Convolutional Networks for Biomedical Image Segmentation](https://arxiv.org/abs/1505.04597)"
      ],
      "metadata": {
        "id": "AGpMztuNrBJn"
      }
    },
    {
      "cell_type": "markdown",
      "source": [
        "![](https://developers.arcgis.com/python/guide/images/unet.png)\n"
      ],
      "metadata": {
        "id": "dBdzA0Y__ru5"
      }
    },
    {
      "cell_type": "markdown",
      "source": [
        "### 2.1 Encoder"
      ],
      "metadata": {
        "id": "9mwdgpAprj0f"
      }
    },
    {
      "cell_type": "markdown",
      "source": [
        "![](https://miro.medium.com/v2/resize:fit:720/format:webp/1*xbG7s8urH-QcsHokMsj85Q.png)"
      ],
      "metadata": {
        "id": "UB6pYCFOAgLx"
      }
    },
    {
      "cell_type": "code",
      "source": [
        "class ConvBlock(nn.Module):\n",
        "  def __init__(self, in_filters: int=3, out_filters: int=64, kernel_size=(3, 3)):\n",
        "    super().__init__()\n",
        "    self.conv_block = nn.Sequential(\n",
        "        nn.Conv2d(in_channels=in_filters,\n",
        "                  out_channels=out_filters,\n",
        "                  kernel_size=kernel_size),\n",
        "        nn.ReLU(),\n",
        "\n",
        "        nn.Conv2d(in_channels=out_filters,\n",
        "                  out_channels=out_filters,\n",
        "                  kernel_size=kernel_size),\n",
        "        nn.ReLU()\n",
        "    )\n",
        "\n",
        "  def forward(self, x):\n",
        "    return self.conv_block(x)\n"
      ],
      "metadata": {
        "id": "hIQAWMpXtKyI",
        "execution": {
          "iopub.status.busy": "2024-02-16T17:54:24.338988Z",
          "iopub.execute_input": "2024-02-16T17:54:24.339293Z",
          "iopub.status.idle": "2024-02-16T17:54:24.345454Z",
          "shell.execute_reply.started": "2024-02-16T17:54:24.339269Z",
          "shell.execute_reply": "2024-02-16T17:54:24.344517Z"
        },
        "trusted": true
      },
      "execution_count": null,
      "outputs": []
    },
    {
      "cell_type": "code",
      "source": [
        "class EncoderMiniBlock(nn.Module):\n",
        "  def __init__(self, in_filters: int=3, out_filters: int=64):\n",
        "    super().__init__()\n",
        "    self.conv_block = ConvBlock(in_filters=in_filters,\n",
        "                                out_filters=out_filters,\n",
        "                                kernel_size=(3, 3))\n",
        "\n",
        "    self.max_pooling = nn.MaxPool2d(kernel_size=(2, 2), stride=2)\n",
        "\n",
        "  def forward(self, x):\n",
        "    self.skip_features = self.conv_block(x)\n",
        "    x = self.max_pooling(self.skip_features)\n",
        "    # print(f\"Encode Shape Output: {x.shape}\")\n",
        "    return x\n"
      ],
      "metadata": {
        "id": "hCBfXHNQlIpo",
        "execution": {
          "iopub.status.busy": "2024-02-16T17:54:24.346514Z",
          "iopub.execute_input": "2024-02-16T17:54:24.346810Z",
          "iopub.status.idle": "2024-02-16T17:54:24.357242Z",
          "shell.execute_reply.started": "2024-02-16T17:54:24.346772Z",
          "shell.execute_reply": "2024-02-16T17:54:24.356468Z"
        },
        "trusted": true
      },
      "execution_count": null,
      "outputs": []
    },
    {
      "cell_type": "markdown",
      "source": [
        "### 2.2 Decoder"
      ],
      "metadata": {
        "id": "Z9wmI5Ag_igD"
      }
    },
    {
      "cell_type": "markdown",
      "source": [
        "![](https://miro.medium.com/v2/resize:fit:720/format:webp/1*LDJ4y5QJc_eCr7quukcKkg.png)"
      ],
      "metadata": {
        "id": "51Y0naj4AoL_"
      }
    },
    {
      "cell_type": "code",
      "source": [
        "class DecoderMiniBlock(nn.Module):\n",
        "\n",
        "  def __init__(self, in_filters, out_filters):\n",
        "    super().__init__()\n",
        "    # self.ina = in_filters\n",
        "    # self.outa = out_filters\n",
        "    self.up_conv = nn.ConvTranspose2d(in_channels=in_filters,\n",
        "                                 out_channels=out_filters,\n",
        "                                 kernel_size=(2, 2),\n",
        "                                 stride=(2, 2))\n",
        "\n",
        "    self.conv_block = ConvBlock(in_filters=in_filters,\n",
        "                                out_filters=out_filters,\n",
        "                                kernel_size=(3, 3))\n",
        "\n",
        "  def forward(self, x, skip_features):\n",
        "    # print('before: ', x.shape, skip_features.shape, self.ina, self.outa)\n",
        "    x = self.up_conv(x)\n",
        "    # print(\"After upconv\", x.shape, skip_features.shape)\n",
        "\n",
        "    #Cortar ou ajustar o tamanho do skip_features para corresponder ao tamanho do decoder_feature\n",
        "    skip_features_cropped = skip_features[:, :, :x.shape[2], :x.shape[3]]\n",
        "    # print(\"skip_features crop: \", skip_features_cropped.shape, 'x: ', x.shape )\n",
        "\n",
        "\n",
        "    # Concatenar os feature maps\n",
        "    x = torch.cat([x, skip_features_cropped], dim=1)\n",
        "    # print('x after concat: ', x.shape)\n",
        "\n",
        "    x = self.conv_block(x)\n",
        "    #print(x.shape, in_filters, out_filters)\n",
        "    # print(f\"Decoder Shape Output: {x.shape}\")\n",
        "    return x\n"
      ],
      "metadata": {
        "id": "ejZ74ACBsZ2o",
        "execution": {
          "iopub.status.busy": "2024-02-16T17:54:24.363248Z",
          "iopub.execute_input": "2024-02-16T17:54:24.363499Z",
          "iopub.status.idle": "2024-02-16T17:54:24.371435Z",
          "shell.execute_reply.started": "2024-02-16T17:54:24.363477Z",
          "shell.execute_reply": "2024-02-16T17:54:24.370635Z"
        },
        "trusted": true
      },
      "execution_count": null,
      "outputs": []
    },
    {
      "cell_type": "markdown",
      "source": [
        "### 2.3 UNet Model"
      ],
      "metadata": {
        "id": "zVy30GwcqW7M"
      }
    },
    {
      "cell_type": "code",
      "source": [
        "class UNet(nn.Module):\n",
        "  def __init__(self, base_n_filters, n_classes):\n",
        "    super().__init__()\n",
        "    self.base_n_filters = base_n_filters\n",
        "    self.n_classes = n_classes\n",
        "\n",
        "    self.encoder_miniblock1 = EncoderMiniBlock(in_filters=3,\n",
        "                                               out_filters=self.base_n_filters) # 64 filters\n",
        "\n",
        "    self.encoder_miniblock2 = EncoderMiniBlock(in_filters=self.base_n_filters,\n",
        "                                               out_filters=self.base_n_filters*2) # 128 filters\n",
        "\n",
        "    self.encoder_miniblock3 = EncoderMiniBlock(in_filters=self.base_n_filters*2,\n",
        "                                               out_filters=self.base_n_filters*4) # 256 filters\n",
        "\n",
        "    self.encoder_miniblock4 = EncoderMiniBlock(in_filters=self.base_n_filters*4,\n",
        "                                               out_filters=self.base_n_filters*8) # 512 filters\n",
        "\n",
        "    # Without max_pooling\n",
        "    self.encoder_miniblock5 = ConvBlock(in_filters=self.base_n_filters*8,\n",
        "                                        out_filters=self.base_n_filters*16,\n",
        "                                        kernel_size=(3, 3))\n",
        "\n",
        "    self.decoder_miniblock1 = DecoderMiniBlock(in_filters=self.base_n_filters*16,\n",
        "                                               out_filters=self.base_n_filters*8) # 512 filters\n",
        "\n",
        "    self.decoder_miniblock2 = DecoderMiniBlock(in_filters=self.base_n_filters*8,\n",
        "                                               out_filters=self.base_n_filters*4) # 256 filters\n",
        "\n",
        "    self.decoder_miniblock3 = DecoderMiniBlock(in_filters=self.base_n_filters*4,\n",
        "                                               out_filters=self.base_n_filters*2) # 128 filters\n",
        "\n",
        "    self.decoder_miniblock4 = DecoderMiniBlock(in_filters=self.base_n_filters*2,\n",
        "                                               out_filters=self.base_n_filters) # 64 filters\n",
        "\n",
        "    self.final_conv = nn.Conv2d(in_channels=64,\n",
        "                  out_channels=self.n_classes,\n",
        "                  kernel_size=(1, 1))\n",
        "\n",
        "  def forward(self, x):\n",
        "    x = self.encoder_miniblock1(x) # 64 filters\n",
        "    x = self.encoder_miniblock2(x) # 128 filters\n",
        "    x = self.encoder_miniblock3(x) # 256 filters\n",
        "    x = self.encoder_miniblock4(x) # 512 filters\n",
        "\n",
        "    x = self.encoder_miniblock5(x) # 1024 filters\n",
        "    # print(\"Encoder Shape Output: \", x.shape)\n",
        "    x = self.decoder_miniblock1(x, self.encoder_miniblock4.skip_features) # 512 filters\n",
        "    x = self.decoder_miniblock2(x, self.encoder_miniblock3.skip_features) # 256 filters\n",
        "    x = self.decoder_miniblock3(x, self.encoder_miniblock2.skip_features) # 128 filters\n",
        "    x = self.decoder_miniblock4(x, self.encoder_miniblock1.skip_features) # 64 filters\n",
        "\n",
        "    x = self.final_conv(x) # n_class filters\n",
        "    return x"
      ],
      "metadata": {
        "id": "ctwnqDsLnY95",
        "execution": {
          "iopub.status.busy": "2024-02-16T17:54:24.372516Z",
          "iopub.execute_input": "2024-02-16T17:54:24.372856Z",
          "iopub.status.idle": "2024-02-16T17:54:24.388064Z",
          "shell.execute_reply.started": "2024-02-16T17:54:24.372824Z",
          "shell.execute_reply": "2024-02-16T17:54:24.387247Z"
        },
        "trusted": true
      },
      "execution_count": null,
      "outputs": []
    },
    {
      "cell_type": "code",
      "source": [
        "# Create model and send it to target device\n",
        "unet_model = UNet(base_n_filters=64, n_classes=1)\n",
        "unet_model.to(device)"
      ],
      "metadata": {
        "id": "JKTEqg19j1gm",
        "execution": {
          "iopub.status.busy": "2024-02-16T17:54:24.389184Z",
          "iopub.execute_input": "2024-02-16T17:54:24.389445Z",
          "iopub.status.idle": "2024-02-16T17:54:24.691002Z",
          "shell.execute_reply.started": "2024-02-16T17:54:24.389423Z",
          "shell.execute_reply": "2024-02-16T17:54:24.690096Z"
        },
        "trusted": true
      },
      "execution_count": null,
      "outputs": []
    },
    {
      "cell_type": "markdown",
      "source": [
        "#### 2.3.1 Forward pass on a random tensor"
      ],
      "metadata": {
        "id": "2Yl3Ht1-jpa4"
      }
    },
    {
      "cell_type": "code",
      "source": [
        "summary(unet_model, input_size=[1,3,572,572])"
      ],
      "metadata": {
        "id": "vaNr_5BdxMo7",
        "execution": {
          "iopub.status.busy": "2024-02-16T17:54:24.692038Z",
          "iopub.execute_input": "2024-02-16T17:54:24.692309Z",
          "iopub.status.idle": "2024-02-16T17:54:24.725386Z",
          "shell.execute_reply.started": "2024-02-16T17:54:24.692286Z",
          "shell.execute_reply": "2024-02-16T17:54:24.724581Z"
        },
        "trusted": true
      },
      "execution_count": null,
      "outputs": []
    },
    {
      "cell_type": "code",
      "source": [
        "print(next(unet_model.parameters()).device)"
      ],
      "metadata": {
        "id": "FpxWMe6rBvez",
        "execution": {
          "iopub.status.busy": "2024-02-16T17:54:24.726393Z",
          "iopub.execute_input": "2024-02-16T17:54:24.726625Z",
          "iopub.status.idle": "2024-02-16T17:54:24.731072Z",
          "shell.execute_reply.started": "2024-02-16T17:54:24.726605Z",
          "shell.execute_reply": "2024-02-16T17:54:24.730229Z"
        },
        "trusted": true
      },
      "execution_count": null,
      "outputs": []
    },
    {
      "cell_type": "code",
      "source": [
        "# a = torch.rand(size=(32, 3, 572, 572)).to(device)\n",
        "a = torch.rand(size=(1, 3, 224, 224)).to(device)\n",
        "a.device"
      ],
      "metadata": {
        "id": "RYdnHWro6BVo",
        "execution": {
          "iopub.status.busy": "2024-02-16T17:54:24.732235Z",
          "iopub.execute_input": "2024-02-16T17:54:24.732624Z",
          "iopub.status.idle": "2024-02-16T17:54:24.811096Z",
          "shell.execute_reply.started": "2024-02-16T17:54:24.732592Z",
          "shell.execute_reply": "2024-02-16T17:54:24.810254Z"
        },
        "trusted": true
      },
      "execution_count": null,
      "outputs": []
    },
    {
      "cell_type": "code",
      "source": [
        "r = unet_model(a)\n",
        "r, r.shape"
      ],
      "metadata": {
        "id": "eE3vljZc6uoI",
        "execution": {
          "iopub.status.busy": "2024-02-16T17:54:24.812031Z",
          "iopub.execute_input": "2024-02-16T17:54:24.812269Z",
          "iopub.status.idle": "2024-02-16T17:54:24.831369Z",
          "shell.execute_reply.started": "2024-02-16T17:54:24.812248Z",
          "shell.execute_reply": "2024-02-16T17:54:24.830564Z"
        },
        "trusted": true
      },
      "execution_count": null,
      "outputs": []
    },
    {
      "cell_type": "markdown",
      "source": [
        "## 3. Train the model"
      ],
      "metadata": {
        "id": "wLbRSeIOj4VF"
      }
    },
    {
      "cell_type": "markdown",
      "source": [
        "### 3.1 Create train step function"
      ],
      "metadata": {
        "id": "wvBsvhVhHj7c"
      }
    },
    {
      "cell_type": "code",
      "source": [
        "def train_step(model: nn.Module,\n",
        "               dataloader: DataLoader,\n",
        "               loss_fn: nn.Module,\n",
        "               optimizer: torch.optim.Optimizer,\n",
        "               iou: BinaryJaccardIndex,\n",
        "              acc: BinaryAccuracy,\n",
        "               device: str) -> tuple:\n",
        "\n",
        "  # Send the model to device and set train mode\n",
        "  model.to(device)\n",
        "  model.train()\n",
        "\n",
        "  # Metrics\n",
        "  total_loss = 0\n",
        "  total_iou = 0\n",
        "  total_acc = 0\n",
        "\n",
        "  # Looping thougtt batchs\n",
        "  for X, mask in dataloader:\n",
        "    # Send the data to right device\n",
        "    X, mask = X.to(device), mask.to(device)\n",
        "\n",
        "\n",
        "    # Foward pass\n",
        "    logits = model(X)\n",
        "\n",
        "    # Resize the result mask\n",
        "    logits_resized = F.interpolate(logits, size=(mask.shape[2], mask.shape[3]), mode='bilinear', align_corners=False)\n",
        "\n",
        "    # Pred mask\n",
        "    pred_mask = torch.softmax(logits_resized, dim=1)\n",
        "    pred_mask = torch.round(pred_mask).to(device)\n",
        "\n",
        "    # Loss\n",
        "    loss = loss_fn(logits_resized, mask)\n",
        "    total_loss += loss\n",
        "\n",
        "\n",
        "    total_iou += iou(pred_mask, torch.round(mask)).item()\n",
        "    total_acc += acc(pred_mask, torch.round(mask)).item()\n",
        "\n",
        "\n",
        "    # Zero grad\n",
        "    optimizer.zero_grad()\n",
        "\n",
        "    # Loss Backward\n",
        "    loss.backward()\n",
        "\n",
        "    # Optimizer step\n",
        "    optimizer.step()\n",
        "\n",
        "\n",
        "  # Mean of train loss and IoU\n",
        "  total_loss /= len(dataloader)\n",
        "  total_iou /= len(dataloader)\n",
        "  total_acc /= len(dataloader)\n",
        "\n",
        "  return total_loss, total_iou, total_acc"
      ],
      "metadata": {
        "id": "iz8YJcRlH1FQ",
        "execution": {
          "iopub.status.busy": "2024-02-16T17:54:24.832369Z",
          "iopub.execute_input": "2024-02-16T17:54:24.832636Z",
          "iopub.status.idle": "2024-02-16T17:54:24.842180Z",
          "shell.execute_reply.started": "2024-02-16T17:54:24.832612Z",
          "shell.execute_reply": "2024-02-16T17:54:24.841329Z"
        },
        "trusted": true
      },
      "execution_count": null,
      "outputs": []
    },
    {
      "cell_type": "markdown",
      "source": [
        "### 3.2 Create test step function"
      ],
      "metadata": {
        "id": "ZrkT2aLFHriP"
      }
    },
    {
      "cell_type": "code",
      "source": [
        "def val_step(model: nn.Module,\n",
        "             dataloader: DataLoader,\n",
        "             loss_fn: nn.Module,\n",
        "             iou: BinaryJaccardIndex,\n",
        "             acc: BinaryAccuracy,\n",
        "             device: str) -> tuple:\n",
        "\n",
        "  loss = 0\n",
        "  iou_metric = 0\n",
        "  acc_metric = 0\n",
        "\n",
        "  # Test with inference mode with validation dataset\n",
        "  with torch.inference_mode():\n",
        "    model.eval()\n",
        "    model.to(device)\n",
        "\n",
        "    # Looping thougtt batchs\n",
        "    for X, mask in dataloader:\n",
        "      # Send the data to right device\n",
        "      X, mask = X.to(device), mask.to(device)\n",
        "\n",
        "      # Forward pass\n",
        "      logits = model(X)\n",
        "\n",
        "      logits_resized = F.interpolate(logits, size=(mask.shape[2], mask.shape[3]), mode='bilinear', align_corners=False)\n",
        "\n",
        "      # Test loss\n",
        "      loss += loss_fn(logits_resized, mask)\n",
        "\n",
        "      # Pred mask\n",
        "      pred_mask = torch.softmax(logits_resized, dim=1)\n",
        "      pred_mask = torch.round(pred_mask).to(device)\n",
        "\n",
        "      # IoU\n",
        "      iou_metric += iou(pred_mask, torch.round(mask)).item()\n",
        "\n",
        "      # Accuracy\n",
        "      acc_metric += acc(pred_mask, torch.round(mask)).item()\n",
        "\n",
        "\n",
        "\n",
        "    loss /= len(dataloader)\n",
        "    iou_metric /= len(dataloader)\n",
        "    acc_metric /= len(dataloader)\n",
        "\n",
        "\n",
        "  return loss, iou_metric, acc_metric"
      ],
      "metadata": {
        "id": "wV2smau_60Cc",
        "execution": {
          "iopub.status.busy": "2024-02-16T17:54:24.843442Z",
          "iopub.execute_input": "2024-02-16T17:54:24.844031Z",
          "iopub.status.idle": "2024-02-16T17:54:24.857022Z",
          "shell.execute_reply.started": "2024-02-16T17:54:24.843998Z",
          "shell.execute_reply": "2024-02-16T17:54:24.856155Z"
        },
        "trusted": true
      },
      "execution_count": null,
      "outputs": []
    },
    {
      "cell_type": "markdown",
      "source": [
        "### 3.1 Create train function"
      ],
      "metadata": {
        "id": "6cJya_TrH2Hh"
      }
    },
    {
      "cell_type": "code",
      "source": [
        "def train(epochs:int,\n",
        "          model: nn.Module,\n",
        "          train_dataloader: DataLoader,\n",
        "          val_dataloader: DataLoader,\n",
        "          loss_fn: nn.Module,\n",
        "          optimizer: torch.optim.Optimizer,\n",
        "          iou: BinaryJaccardIndex,\n",
        "          acc: BinaryAccuracy,\n",
        "          device) -> dict:\n",
        "\n",
        "  history_dict = {\n",
        "      'train_loss': [],\n",
        "      'val_loss': [],\n",
        "      'train_iou': [],\n",
        "      'val_iou': [],\n",
        "      'train_acc': [],\n",
        "      'val_acc': [],\n",
        "  }\n",
        "\n",
        "  for epoch in range(epochs):\n",
        "    train_loss, train_iou, train_acc = train_step(model=unet_model,\n",
        "           dataloader=train_dataloader,\n",
        "           loss_fn=loss_fn,\n",
        "           optimizer=optimzier,\n",
        "           iou=iou,\n",
        "           acc=acc,\n",
        "           device=device)\n",
        "\n",
        "    val_loss, val_iou, val_acc = val_step(model=unet_model,\n",
        "           dataloader=train_dataloader,\n",
        "           loss_fn=loss_fn,\n",
        "           iou=iou,\n",
        "           acc=acc,\n",
        "           device=device)\n",
        "\n",
        "    history_dict['train_loss'].append(train_loss.item())\n",
        "    history_dict['val_loss'].append(val_loss.item())\n",
        "\n",
        "    history_dict['train_iou'].append(train_iou)\n",
        "    history_dict['val_iou'].append(val_iou)\n",
        "\n",
        "    history_dict['train_acc'].append(train_acc)\n",
        "    history_dict['val_acc'].append(val_acc)\n",
        "\n",
        "    print(f\"Epoch: {epoch+1} | Train Loss: {train_loss} | Validation Loss: {val_loss} | Train IoU: {train_iou} | Validation IoU: {val_iou} | Train Accuracy: {train_acc} | Validation Accuracy: {val_acc}\")\n",
        "\n",
        "  return history_dict"
      ],
      "metadata": {
        "id": "SCpSidcMIBbA",
        "execution": {
          "iopub.status.busy": "2024-02-16T17:54:24.858151Z",
          "iopub.execute_input": "2024-02-16T17:54:24.858418Z",
          "iopub.status.idle": "2024-02-16T17:54:24.871198Z",
          "shell.execute_reply.started": "2024-02-16T17:54:24.858386Z",
          "shell.execute_reply": "2024-02-16T17:54:24.870297Z"
        },
        "trusted": true
      },
      "execution_count": null,
      "outputs": []
    },
    {
      "cell_type": "markdown",
      "source": [
        "### 3.4 Train the model"
      ],
      "metadata": {
        "id": "zOuLPiqsH6My"
      }
    },
    {
      "cell_type": "code",
      "source": [
        "# Loss function and Optimizer\n",
        "loss_fn = nn.BCEWithLogitsLoss()\n",
        "optimzier = Adam(unet_model.parameters(), lr=10)\n",
        "\n",
        "# Metrics\n",
        "iou_metric = BinaryJaccardIndex().to(device)\n",
        "accuracy_metric = BinaryAccuracy().to(device)\n"
      ],
      "metadata": {
        "id": "LoCnSlW3ICDZ",
        "execution": {
          "iopub.status.busy": "2024-02-16T17:54:24.872214Z",
          "iopub.execute_input": "2024-02-16T17:54:24.872466Z",
          "iopub.status.idle": "2024-02-16T17:54:24.888538Z",
          "shell.execute_reply.started": "2024-02-16T17:54:24.872445Z",
          "shell.execute_reply": "2024-02-16T17:54:24.887691Z"
        },
        "trusted": true
      },
      "execution_count": null,
      "outputs": []
    },
    {
      "cell_type": "code",
      "source": [
        "history = train(epochs=10,\n",
        "                model=unet_model,\n",
        "                train_dataloader=train_dataloader,\n",
        "                val_dataloader=val_dataloader,\n",
        "                loss_fn=loss_fn,\n",
        "                optimizer=optimzier,\n",
        "                iou=iou_metric,\n",
        "                acc=accuracy_metric,\n",
        "                device=device)"
      ],
      "metadata": {
        "id": "5KXiftS-7XUT",
        "execution": {
          "iopub.status.busy": "2024-02-16T17:54:24.889614Z",
          "iopub.execute_input": "2024-02-16T17:54:24.889934Z",
          "iopub.status.idle": "2024-02-16T17:54:40.877664Z",
          "shell.execute_reply.started": "2024-02-16T17:54:24.889902Z",
          "shell.execute_reply": "2024-02-16T17:54:40.876420Z"
        },
        "trusted": true
      },
      "execution_count": null,
      "outputs": []
    },
    {
      "cell_type": "markdown",
      "source": [
        "### 3.5 Loss, IoU and Accuracy curves\n"
      ],
      "metadata": {
        "id": "FlOcxvtLEpr0"
      }
    },
    {
      "cell_type": "code",
      "source": [
        "history"
      ],
      "metadata": {
        "id": "0fFq1-jMRONH",
        "execution": {
          "iopub.status.busy": "2024-02-16T17:54:40.878490Z",
          "iopub.status.idle": "2024-02-16T17:54:40.878811Z",
          "shell.execute_reply.started": "2024-02-16T17:54:40.878644Z",
          "shell.execute_reply": "2024-02-16T17:54:40.878657Z"
        },
        "trusted": true
      },
      "execution_count": null,
      "outputs": []
    },
    {
      "cell_type": "code",
      "source": [
        "def plot_iou_and_loss_metrics(history: dict) -> None:\n",
        "\n",
        "  epochs = len(history['train_loss'])\n",
        "\n",
        "  fig = plt.figure(figsize=(25, 10))\n",
        "\n",
        "  fig.add_subplot(1, 2, 1)\n",
        "  plt.plot(range(epochs), history['train_loss'])\n",
        "  plt.plot(range(epochs), history['val_loss'])\n",
        "  plt.title(f'Loss')\n",
        "  plt.legend()\n",
        "\n",
        "  fig.add_subplot(1, 2, 2)\n",
        "  plt.plot(range(epochs), history['train_iou'])\n",
        "  plt.plot(range(epochs), history['val_iou'])\n",
        "  plt.title(f'IoU(Intersection Over Union - BinaryJaccardIndex)')\n",
        "  plt.legend()\n",
        "\n",
        "#   fig.add_subplot(1, 3, 3)\n",
        "#   plt.plot(range(epochs), history['train_acc'])\n",
        "#   plt.plot(range(epochs), history['val_acc'])\n",
        "#   plt.title(f'Accuracy')\n",
        "#   plt.legend()\n",
        "\n",
        "  plt.show()"
      ],
      "metadata": {
        "id": "7VcAKIneExdm",
        "execution": {
          "iopub.status.busy": "2024-02-16T17:54:40.880035Z",
          "iopub.status.idle": "2024-02-16T17:54:40.880378Z",
          "shell.execute_reply.started": "2024-02-16T17:54:40.880209Z",
          "shell.execute_reply": "2024-02-16T17:54:40.880231Z"
        },
        "trusted": true
      },
      "execution_count": null,
      "outputs": []
    },
    {
      "cell_type": "code",
      "source": [
        "plot_iou_and_loss_metrics(history)"
      ],
      "metadata": {
        "id": "IlRQ2NenNs5P",
        "execution": {
          "iopub.status.busy": "2024-02-16T17:54:40.881622Z",
          "iopub.status.idle": "2024-02-16T17:54:40.881953Z",
          "shell.execute_reply.started": "2024-02-16T17:54:40.881773Z",
          "shell.execute_reply": "2024-02-16T17:54:40.881786Z"
        },
        "trusted": true
      },
      "execution_count": null,
      "outputs": []
    },
    {
      "cell_type": "code",
      "source": [
        "torch.save(unet_model.state_dict(), '/kaggle/working/model.pth')"
      ],
      "metadata": {
        "id": "w6FE-esDN99p",
        "execution": {
          "iopub.status.busy": "2024-02-16T17:54:40.882935Z",
          "iopub.status.idle": "2024-02-16T17:54:40.883258Z",
          "shell.execute_reply.started": "2024-02-16T17:54:40.883094Z",
          "shell.execute_reply": "2024-02-16T17:54:40.883108Z"
        },
        "trusted": true
      },
      "execution_count": null,
      "outputs": []
    },
    {
      "cell_type": "code",
      "source": [
        "  plt.imshow(val_dataset[0][0].permute(1, 2, 0))"
      ],
      "metadata": {
        "execution": {
          "iopub.status.busy": "2024-02-16T17:54:40.884589Z",
          "iopub.status.idle": "2024-02-16T17:54:40.884939Z",
          "shell.execute_reply.started": "2024-02-16T17:54:40.884748Z",
          "shell.execute_reply": "2024-02-16T17:54:40.884762Z"
        },
        "trusted": true,
        "id": "q7wrkYTKGEtT"
      },
      "execution_count": null,
      "outputs": []
    },
    {
      "cell_type": "code",
      "source": [
        "len(val_dataset)"
      ],
      "metadata": {
        "execution": {
          "iopub.status.busy": "2024-02-16T17:54:40.886207Z",
          "iopub.status.idle": "2024-02-16T17:54:40.886508Z",
          "shell.execute_reply.started": "2024-02-16T17:54:40.886360Z",
          "shell.execute_reply": "2024-02-16T17:54:40.886373Z"
        },
        "trusted": true,
        "id": "5HKghBKeGEtU"
      },
      "execution_count": null,
      "outputs": []
    },
    {
      "cell_type": "code",
      "source": [
        "with torch.inference_mode():\n",
        "    unet_model.to('cpu')\n",
        "    from matplotlib import cm\n",
        "    tensor_image = train_dataset[30][0]\n",
        "    pil_image = TF.to_pil_image(tensor_image)\n",
        "    transformed_tensor = transform(pil_image)\n",
        "    test = unet_model(torch.unsqueeze(transformed_tensor, dim=0))\n",
        "    plt.imshow(transformed_tensor.permute(1, 2, 0))\n",
        "    plt.figure()\n",
        "    plt.imshow(torch.squeeze(test, dim=0).permute(1, 2, 0))\n",
        ""
      ],
      "metadata": {
        "execution": {
          "iopub.status.busy": "2024-02-16T17:54:40.887408Z",
          "iopub.status.idle": "2024-02-16T17:54:40.887751Z",
          "shell.execute_reply.started": "2024-02-16T17:54:40.887577Z",
          "shell.execute_reply": "2024-02-16T17:54:40.887592Z"
        },
        "trusted": true,
        "id": "39qz5fsnGEtU"
      },
      "execution_count": null,
      "outputs": []
    },
    {
      "cell_type": "code",
      "source": [
        "test.shape, torch.squeeze(test, dim=0).shape"
      ],
      "metadata": {
        "execution": {
          "iopub.status.busy": "2024-02-16T17:54:40.889277Z",
          "iopub.status.idle": "2024-02-16T17:54:40.889596Z",
          "shell.execute_reply.started": "2024-02-16T17:54:40.889441Z",
          "shell.execute_reply": "2024-02-16T17:54:40.889455Z"
        },
        "trusted": true,
        "id": "3Efyhs73GEtU"
      },
      "execution_count": null,
      "outputs": []
    },
    {
      "cell_type": "code",
      "source": [],
      "metadata": {
        "trusted": true,
        "id": "YDpxVxE6GEtV"
      },
      "execution_count": null,
      "outputs": []
    },
    {
      "cell_type": "code",
      "source": [],
      "metadata": {
        "id": "y7q8HsKqGEtX"
      },
      "execution_count": null,
      "outputs": []
    }
  ]
}